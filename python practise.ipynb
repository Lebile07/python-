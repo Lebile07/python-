{
 "cells": [
  {
   "cell_type": "code",
   "execution_count": 48,
   "id": "209b36b8-9d1b-458f-92bc-214ded06c691",
   "metadata": {},
   "outputs": [],
   "source": [
    "def sum_list(v):\n",
    "    c=0\n",
    "    for i in v:\n",
    "        new_list=i+c\n",
    "        c=0+new_list\n",
    "    return new_list"
   ]
  },
  {
   "cell_type": "code",
   "execution_count": 50,
   "id": "029dfbdc-cb0e-409d-9d4e-200f66e7d9db",
   "metadata": {},
   "outputs": [
    {
     "data": {
      "text/plain": [
       "60"
      ]
     },
     "execution_count": 50,
     "metadata": {},
     "output_type": "execute_result"
    }
   ],
   "source": [
    "sum_list(list2)"
   ]
  },
  {
   "cell_type": "code",
   "execution_count": 58,
   "id": "b9639952-0b2a-40fb-8b4b-2b4c71864706",
   "metadata": {},
   "outputs": [],
   "source": [
    "def two_list(list1,list2):\n",
    "    gen_list=[]\n",
    "    for i in range(len(list1)):\n",
    "       gen_list.append(list1[i]+list2[i])\n",
    "    return gen_list\n",
    "    \n",
    "    "
   ]
  },
  {
   "cell_type": "code",
   "execution_count": 62,
   "id": "46ea8df6-7a23-42e8-839b-9ecdd9447d78",
   "metadata": {},
   "outputs": [
    {
     "data": {
      "text/plain": [
       "[6, 12, 20, 26, 32]"
      ]
     },
     "execution_count": 62,
     "metadata": {},
     "output_type": "execute_result"
    }
   ],
   "source": [
    "two_list(x,y)"
   ]
  },
  {
   "cell_type": "code",
   "execution_count": 54,
   "id": "aa1daaa0-51c9-40d0-ad52-8a8bc1500e8b",
   "metadata": {},
   "outputs": [],
   "source": [
    "x=[2,4,8,10,12]\n",
    "y=[4,8,12,16,20]"
   ]
  },
  {
   "cell_type": "code",
   "execution_count": 72,
   "id": "da243e07-3339-4533-9648-d37efc12fbc0",
   "metadata": {},
   "outputs": [],
   "source": [
    "def square_list(v):\n",
    "    square_list=[]\n",
    "    for i in v:\n",
    "        square_list.append(new)\n",
    "    return square_list\n",
    "        "
   ]
  },
  {
   "cell_type": "code",
   "execution_count": 74,
   "id": "e144ebbe-734f-49d2-b5e4-2c92cf5e3d66",
   "metadata": {},
   "outputs": [
    {
     "data": {
      "text/plain": [
       "[4, 16, 64, 100, 144]"
      ]
     },
     "execution_count": 74,
     "metadata": {},
     "output_type": "execute_result"
    }
   ],
   "source": [
    "square_list(x)"
   ]
  },
  {
   "cell_type": "code",
   "execution_count": null,
   "id": "8a0a1884-5726-4cd9-b24a-1546f2b54ac2",
   "metadata": {},
   "outputs": [],
   "source": []
  }
 ],
 "metadata": {
  "kernelspec": {
   "display_name": "Python 3 (ipykernel)",
   "language": "python",
   "name": "python3"
  },
  "language_info": {
   "codemirror_mode": {
    "name": "ipython",
    "version": 3
   },
   "file_extension": ".py",
   "mimetype": "text/x-python",
   "name": "python",
   "nbconvert_exporter": "python",
   "pygments_lexer": "ipython3",
   "version": "3.12.7"
  }
 },
 "nbformat": 4,
 "nbformat_minor": 5
}
